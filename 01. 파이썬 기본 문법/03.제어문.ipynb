{
 "cells": [
  {
   "cell_type": "markdown",
   "metadata": {},
   "source": [
    "### if문"
   ]
  },
  {
   "cell_type": "code",
   "execution_count": 6,
   "metadata": {},
   "outputs": [
    {
     "name": "stdout",
     "output_type": "stream",
     "text": [
      "take a bus!\n",
      "go home!\n"
     ]
    }
   ],
   "source": [
    "money = int(input(\"write cash you have..:\"))\n",
    "\n",
    "if money >=50000 and money <=100000:\n",
    "  print(\"take a advanced taxi!\")\n",
    "elif money >=30000:\n",
    "  print(\"take a cheaper taxi!\")\n",
    "else:\n",
    "    print(\"take a bus!\")\n",
    "\n",
    "\n",
    "print(\"go home!\")"
   ]
  },
  {
   "cell_type": "code",
   "execution_count": 9,
   "metadata": {},
   "outputs": [
    {
     "name": "stdout",
     "output_type": "stream",
     "text": [
      "already in List!\n",
      "['Lee', 'Hong', 'Park', 'Kim', 'Seo']\n"
     ]
    }
   ],
   "source": [
    "names = [\"Lee\",\"Hong\",\"Park\",\"Kim\",\"Seo\"]\n",
    "\n",
    "name = input(\"name: \")\n",
    "\n",
    "#if name in names:\n",
    "#  print(\"already in List!\")\n",
    "#elif name not in names:\n",
    "#  names.append(name)\n",
    "YesNo = False\n",
    "\n",
    "for n in names:\n",
    "  if n == name:\n",
    "    print(\"already in List!\")\n",
    "    break\n",
    "  else:\n",
    "    names.append(name)\n",
    "    print(\"Added name!\")\n",
    "\n",
    "  \n",
    "print(names)"
   ]
  },
  {
   "cell_type": "code",
   "execution_count": 10,
   "metadata": {},
   "outputs": [
    {
     "name": "stdout",
     "output_type": "stream",
     "text": [
      "already in List!\n"
     ]
    }
   ],
   "source": [
    "names = [\"Lee\",\"Hong\",\"Park\",\"Kim\",\"Seo\"]\n",
    "\n",
    "name = input(\"name: \")\n",
    "YesNo = False\n",
    "\n",
    "for i in range(len(names)):\n",
    "  if names[i] == name:\n",
    "    print(\"already in List!\")\n",
    "    break\n",
    "  else:\n",
    "    names.append(name)\n",
    "    print(\"Added name!\")\n",
    "\n",
    "print(names)"
   ]
  },
  {
   "cell_type": "code",
   "execution_count": null,
   "metadata": {},
   "outputs": [],
   "source": [
    "names = [\"Lee\",\"Hong\",\"Park\",\"Kim\",\"Seo\"]\n",
    "\n",
    "name = input(\"name: \")\n",
    "\n",
    "if name in names:\n",
    "  print(\"already in List!\")\n",
    "elif name not in names:\n",
    "  names.append(name)\n",
    "  print(\"Added name!\")\n",
    "\n",
    "print(names)"
   ]
  }
 ],
 "metadata": {
  "kernelspec": {
   "display_name": "mtedu",
   "language": "python",
   "name": "python3"
  },
  "language_info": {
   "codemirror_mode": {
    "name": "ipython",
    "version": 3
   },
   "file_extension": ".py",
   "mimetype": "text/x-python",
   "name": "python",
   "nbconvert_exporter": "python",
   "pygments_lexer": "ipython3",
   "version": "3.11.7"
  }
 },
 "nbformat": 4,
 "nbformat_minor": 2
}
