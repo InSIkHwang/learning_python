{
 "cells": [
  {
   "cell_type": "markdown",
   "metadata": {},
   "source": [
    "### if문"
   ]
  },
  {
   "cell_type": "code",
   "execution_count": 6,
   "metadata": {},
   "outputs": [
    {
     "name": "stdout",
     "output_type": "stream",
     "text": [
      "take a bus!\n",
      "go home!\n"
     ]
    }
   ],
   "source": [
    "money = int(input(\"write cash you have..:\"))\n",
    "\n",
    "if money >=50000 and money <=100000:\n",
    "  print(\"take a advanced taxi!\")\n",
    "elif money >=30000:\n",
    "  print(\"take a cheaper taxi!\")\n",
    "else:\n",
    "    print(\"take a bus!\")\n",
    "\n",
    "\n",
    "print(\"go home!\")"
   ]
  },
  {
   "cell_type": "code",
   "execution_count": 9,
   "metadata": {},
   "outputs": [
    {
     "name": "stdout",
     "output_type": "stream",
     "text": [
      "already in List!\n",
      "['Lee', 'Hong', 'Park', 'Kim', 'Seo']\n"
     ]
    }
   ],
   "source": [
    "names = [\"Lee\",\"Hong\",\"Park\",\"Kim\",\"Seo\"]\n",
    "\n",
    "name = input(\"name: \")\n",
    "\n",
    "#if name in names:\n",
    "#  print(\"already in List!\")\n",
    "#elif name not in names:\n",
    "#  names.append(name)\n",
    "YesNo = False\n",
    "\n",
    "for n in names:\n",
    "  if n == name:\n",
    "    print(\"already in List!\")\n",
    "    break\n",
    "  else:\n",
    "    names.append(name)\n",
    "    print(\"Added name!\")\n",
    "\n",
    "  \n",
    "print(names)"
   ]
  },
  {
   "cell_type": "code",
   "execution_count": 1,
   "metadata": {},
   "outputs": [
    {
     "name": "stdout",
     "output_type": "stream",
     "text": [
      "등록된 이름입니다.\n",
      "['이순신', '홍길동', '박찬호', '김보연', '서정동']\n"
     ]
    }
   ],
   "source": [
    "names = [\"이순신\",\"홍길동\",\"박찬호\",\"김보연\",\"서정동\"]\n",
    "\n",
    "name = input(\"이름을 입력하세요.\")\n",
    "yesno=False\n",
    "\n",
    "for n in names:\n",
    "  if n == name:\n",
    "    print(\"등록된 이름입니다.\")\n",
    "    yesno=True\n",
    "    break\n",
    "\n",
    "if yesno == False:\n",
    "  names.append(name)\n",
    "  print(\"이름을 등록하였습니다.\")\n",
    "\n",
    "print(names)"
   ]
  },
  {
   "cell_type": "code",
   "execution_count": 10,
   "metadata": {},
   "outputs": [
    {
     "name": "stdout",
     "output_type": "stream",
     "text": [
      "already in List!\n"
     ]
    }
   ],
   "source": [
    "names = [\"Lee\",\"Hong\",\"Park\",\"Kim\",\"Seo\"]\n",
    "\n",
    "name = input(\"name: \")\n",
    "YesNo = False\n",
    "\n",
    "for i in range(len(names)):\n",
    "  if names[i] == name:\n",
    "    print(\"already in List!\")\n",
    "    break\n",
    "  else:\n",
    "    names.append(name)\n",
    "    print(\"Added name!\")\n",
    "\n",
    "print(names)"
   ]
  },
  {
   "cell_type": "code",
   "execution_count": 5,
   "metadata": {},
   "outputs": [
    {
     "name": "stdout",
     "output_type": "stream",
     "text": [
      "1. 이순신님의 나이는 30이며 성별은 남입니다.\n",
      "2. 홍길동님의 나이는 55이며 성별은 여입니다.\n",
      "3. 박찬호님의 나이는 48이며 성별은 남입니다.\n",
      "4. 김보연님의 나이는 22이며 성별은 여입니다.\n",
      "5. 서정동님의 나이는 50이며 성별은 남입니다.\n",
      "\n",
      "작업종료\n"
     ]
    }
   ],
   "source": [
    "names = [\"이순신\",\"홍길동\",\"박찬호\",\"김보연\",\"서정동\"]\n",
    "ages = [30,55,48,22,50]\n",
    "genders = [\"남\", \"여\", \"남\", \"여\", \"남\"]\n",
    "\n",
    "for i in range(len(names)):\n",
    "  print(f\"{i+1}. {names[i]}님의 나이는 {ages[i]}이며 성별은 {genders[i]}입니다.\")\n",
    "  \n",
    "print(\"\\n작업종료\")"
   ]
  },
  {
   "cell_type": "code",
   "execution_count": null,
   "metadata": {},
   "outputs": [],
   "source": [
    "names = [\"Lee\",\"Hong\",\"Park\",\"Kim\",\"Seo\"]\n",
    "\n",
    "name = input(\"name: \")\n",
    "\n",
    "if name in names:\n",
    "  print(\"already in List!\")\n",
    "elif name not in names:\n",
    "  names.append(name)\n",
    "  print(\"Added name!\")\n",
    "\n",
    "print(names)"
   ]
  },
  {
   "cell_type": "code",
   "execution_count": 10,
   "metadata": {},
   "outputs": [
    {
     "name": "stdout",
     "output_type": "stream",
     "text": [
      "[1, 3, 5, 7, 9]\n",
      "[0, 2, 4, 6, 8, 10]\n"
     ]
    }
   ],
   "source": [
    "odds =[]\n",
    "evens=[]\n",
    "\n",
    "for i in range(1,11,2):\n",
    "  odds.append(i)\n",
    "  \n",
    "print(odds)\n",
    "\n",
    "\n",
    "\n",
    "for i in range(0,11,2):\n",
    "  evens.append(i)\n",
    "  \n",
    "print(evens)\n"
   ]
  },
  {
   "cell_type": "code",
   "execution_count": 13,
   "metadata": {},
   "outputs": [
    {
     "name": "stdout",
     "output_type": "stream",
     "text": [
      "합: 15, 평군: 3.0\n"
     ]
    }
   ],
   "source": [
    "tot = 0\n",
    "cnt = 0\n",
    "while True:\n",
    "  answer = input(\"값 입력(종료: quit)\")\n",
    "  if answer == \"quit\":\n",
    "    break\n",
    "  else:\n",
    "    tot += int(answer)\n",
    "    cnt +=1\n",
    "    \n",
    "print(f\"합: {tot}, 평균: {tot/cnt}\")"
   ]
  }
 ],
 "metadata": {
  "kernelspec": {
   "display_name": "mtedu",
   "language": "python",
   "name": "python3"
  },
  "language_info": {
   "codemirror_mode": {
    "name": "ipython",
    "version": 3
   },
   "file_extension": ".py",
   "mimetype": "text/x-python",
   "name": "python",
   "nbconvert_exporter": "python",
   "pygments_lexer": "ipython3",
   "version": "3.11.7"
  }
 },
 "nbformat": 4,
 "nbformat_minor": 2
}
