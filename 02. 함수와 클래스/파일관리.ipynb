{
 "cells": [
  {
   "cell_type": "markdown",
   "metadata": {},
   "source": [
    "### 파일읽고/쓰기(p175~)\n",
    "- 파일연결: 파일변수 = open(\"생성파일명\", \"파일열기 모드\")\n",
    "\n",
    "- 파일닫기: 파일변수.close()"
   ]
  },
  {
   "cell_type": "code",
   "execution_count": 4,
   "metadata": {},
   "outputs": [],
   "source": [
    "# 파일 생성\n",
    "f = open(\"./data/testText.txt\", \"w\")   # w : 새파일 생성(기존=>삭제후 새로 만들기)\n",
    "for i in range(5):\n",
    "  f.write(f\"{i+1}번째 입력입니다.\\n\")\n",
    "\n",
    "f.close()"
   ]
  },
  {
   "cell_type": "code",
   "execution_count": 5,
   "metadata": {},
   "outputs": [],
   "source": [
    "# 내용 추가하기(with)\n",
    "with open(\"./data/testText.txt\", \"a\") as f:\n",
    "  for i in range(6, 11):\n",
    "    f.write(f\"{i}번째 입력입니다.\\n\")\n",
    "\n",
    "f.close()"
   ]
  },
  {
   "cell_type": "markdown",
   "metadata": {},
   "source": [
    "### 파일 읽어오기\n",
    "- read() : 모든 내용을 읽어들여 문자열로 반환한다.\n",
    "- readlind(): 파일에서 내용에서 한줄 단위로 읽어들인다.\n",
    "- readlines(): 파일 내용을 순서대로 읽어들여 리스트형으로 반환한다.\n"
   ]
  },
  {
   "cell_type": "code",
   "execution_count": 6,
   "metadata": {},
   "outputs": [
    {
     "name": "stdout",
     "output_type": "stream",
     "text": [
      "1번째 입력입니다.\n",
      "2번째 입력입니다.\n",
      "3번째 입력입니다.\n",
      "4번째 입력입니다.\n",
      "5번째 입력입니다.\n",
      "6번째 입력입니다.\n",
      "7번째 입력입니다.\n",
      "8번째 입력입니다.\n",
      "9번째 입력입니다.\n",
      "10번째 입력입니다.\n",
      "\n",
      "1번째 입력입니다.\n",
      "2번째 입력입니다.\n",
      "3번째 입력입니\n"
     ]
    }
   ],
   "source": [
    "# 파일 읽어오기(read())\n",
    "\n",
    "with open(\"./data/testText.txt\", \"r\") as f:\n",
    "  fRead=f.read()\n",
    "  print(fRead)\n",
    "\n",
    "f.close()\n",
    "\n",
    "print(fRead[:30])\n"
   ]
  },
  {
   "cell_type": "code",
   "execution_count": 7,
   "metadata": {},
   "outputs": [
    {
     "name": "stdout",
     "output_type": "stream",
     "text": [
      "1번째 입력입니다.\n",
      "\n",
      "2번째 입력입니다.\n",
      "\n",
      "3번째 입력입니다.\n",
      "\n"
     ]
    }
   ],
   "source": [
    "# 파일 읽어오기(readline())\n",
    "\n",
    "with open(\"./data/testText.txt\", \"r\") as f:\n",
    "  for i in range(3):\n",
    "    fLine=f.readline()\n",
    "    print(fLine)\n",
    "\n",
    "f.close()"
   ]
  },
  {
   "cell_type": "code",
   "execution_count": 8,
   "metadata": {},
   "outputs": [
    {
     "name": "stdout",
     "output_type": "stream",
     "text": [
      "1번째 입력입니다.\n",
      "\n",
      "10번째 입력입니다.\n",
      "\n"
     ]
    }
   ],
   "source": [
    "# 파일 읽어오기(readline())\n",
    "\n",
    "with open(\"./data/testText.txt\", \"r\") as f:\n",
    "  fLines = f.readlines()\n",
    "f.close()\n",
    "\n",
    "print(fLines[0])\n",
    "print(fLines[9])"
   ]
  },
  {
   "cell_type": "markdown",
   "metadata": {},
   "source": [
    "### CSV 파일 읽기/쓰기\n",
    "- import csv\n",
    "- open(\"파일명\", \"읽기모드\", encoding=\"utf-8\", newline=\"\")"
   ]
  },
  {
   "cell_type": "code",
   "execution_count": 9,
   "metadata": {},
   "outputs": [
    {
     "name": "stdout",
     "output_type": "stream",
     "text": [
      "['3', '박함수', '2018-06-01', '3000000']\n",
      "['5', '이함수', '2021-01-01', '3500000']\n",
      "['6', '박코드', '2031-01-01', '3000000']\n",
      "['1', '홍길동', '1998-10-12', '3300000']\n",
      "['2', '이순신', '2020-01-02', '2800000']\n"
     ]
    }
   ],
   "source": [
    "# 파일 읽어오기\n",
    "import csv\n",
    "\n",
    "f = open(\"./data/testcsv.csv\", \"r\", encoding=\"utf-8\")\n",
    "rdf = csv.reader(f)\n",
    "for line in rdf:\n",
    "  print(line)\n",
    "\n",
    "f.close()"
   ]
  },
  {
   "cell_type": "code",
   "execution_count": 10,
   "metadata": {},
   "outputs": [],
   "source": [
    "# 파일 생성\n",
    "import csv\n",
    "\n",
    "f = open(\"./data/testcsv.csv\", \"w\", encoding=\"utf-8\", newline='')\n",
    "wrf = csv.writer(f)\n",
    "wrf.writerow([3, '박함수', '2018-06-01', 3000000])\n",
    "wrf.writerow([5,\"이함수\", \"2021-01-01\", 3500000])\n",
    "wrf.writerow([6,\"박코드\", \"2031-01-01\", 3000000])\n",
    "\n",
    "f.close()"
   ]
  },
  {
   "cell_type": "code",
   "execution_count": 11,
   "metadata": {},
   "outputs": [],
   "source": [
    "# 파일 생성\n",
    "import csv\n",
    "\n",
    "f = open(\"./data/testcsv.csv\", \"a\", encoding=\"utf-8\", newline='')\n",
    "wrf = csv.writer(f)\n",
    "wrf.writerow([1, '홍길동', '1998-10-12', 3300000])\n",
    "wrf.writerow([2, '이순신', '2020-01-02', 2800000])\n",
    "\n",
    "f.close()"
   ]
  },
  {
   "cell_type": "markdown",
   "metadata": {},
   "source": [
    "### JSON 파일 읽기/쓰기\n",
    "- import json\n",
    "- open(\"파일명\", \"읽기모드\")"
   ]
  },
  {
   "cell_type": "code",
   "execution_count": 12,
   "metadata": {},
   "outputs": [
    {
     "name": "stdout",
     "output_type": "stream",
     "text": [
      "{'1': {'name': 'aaaa', 'id': 'a12345', 'year': 2000}, '2': {'name': 'bbbb', 'id': 'b12345', 'year': 1900}, '3': {'name': 'cccc', 'id': 'c12345', 'year': 2000}}\n",
      "{'name': 'cccc', 'id': 'c12345', 'year': 2000}\n"
     ]
    }
   ],
   "source": [
    "import json\n",
    "\n",
    "with open(\"./data/testjson.json\", \"r\") as f:\n",
    "  json_data = json.load(f)\n",
    "\n",
    "print(json_data)\n",
    "print(json_data[\"3\"])"
   ]
  },
  {
   "cell_type": "code",
   "execution_count": 13,
   "metadata": {},
   "outputs": [
    {
     "name": "stdout",
     "output_type": "stream",
     "text": [
      "{'name': 'cccc', 'id': 'c12345', 'year': 2000}\n"
     ]
    }
   ],
   "source": [
    "# 값 수정\n",
    "json_data[\"3\"][\"year\"] = 2000\n",
    "print(json_data[\"3\"])"
   ]
  },
  {
   "cell_type": "code",
   "execution_count": 14,
   "metadata": {},
   "outputs": [],
   "source": [
    "# 파일에 저장\n",
    "with open(\"testjson.json\", \"w\" , encoding=\"cp949\") as f:\n",
    "  json.dump(json_data, f, indent=\"\\t\")\n",
    "\n",
    "f.close()"
   ]
  }
 ],
 "metadata": {
  "kernelspec": {
   "display_name": "mtedu",
   "language": "python",
   "name": "python3"
  },
  "language_info": {
   "codemirror_mode": {
    "name": "ipython",
    "version": 3
   },
   "file_extension": ".py",
   "mimetype": "text/x-python",
   "name": "python",
   "nbconvert_exporter": "python",
   "pygments_lexer": "ipython3",
   "version": "3.11.7"
  }
 },
 "nbformat": 4,
 "nbformat_minor": 2
}
