{
 "cells": [
  {
   "cell_type": "code",
   "execution_count": 1,
   "metadata": {},
   "outputs": [],
   "source": [
    "# 사용자가 직접 작성한 모듈 연결(model_test.py)\n",
    "\n",
    "import model_test\n",
    "print(model_test.__name__)"
   ]
  },
  {
   "cell_type": "code",
   "execution_count": 3,
   "metadata": {},
   "outputs": [
    {
     "name": "stdout",
     "output_type": "stream",
     "text": [
      "1.0\n",
      "2\n"
     ]
    }
   ],
   "source": [
    "# model_test 모듈을 이용한 계산기 객체 생성\n",
    "userClt = model_test.userCalculator() # 인스턴스 객체 생성\n",
    "print(userClt.varsion)\n",
    "print(userClt.add(10, 20))\n",
    "print(userClt.sub(10, 20))"
   ]
  },
  {
   "cell_type": "code",
   "execution_count": null,
   "metadata": {},
   "outputs": [],
   "source": [
    "indata, tot = model_test.aaa()\n",
    "print(indata, tot)"
   ]
  }
 ],
 "metadata": {
  "kernelspec": {
   "display_name": "mtedu",
   "language": "python",
   "name": "python3"
  },
  "language_info": {
   "codemirror_mode": {
    "name": "ipython",
    "version": 3
   },
   "file_extension": ".py",
   "mimetype": "text/x-python",
   "name": "python",
   "nbconvert_exporter": "python",
   "pygments_lexer": "ipython3",
   "version": "3.11.7"
  }
 },
 "nbformat": 4,
 "nbformat_minor": 2
}
