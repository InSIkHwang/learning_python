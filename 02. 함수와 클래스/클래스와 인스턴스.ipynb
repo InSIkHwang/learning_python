{
 "cells": [
  {
   "cell_type": "markdown",
   "metadata": {},
   "source": [
    "### 클래스와 인스턴스"
   ]
  },
  {
   "cell_type": "code",
   "execution_count": 1,
   "metadata": {},
   "outputs": [],
   "source": [
    "class 빵틀:\n",
    "   def 빵반죽(self):\n",
    "     self.기본재료=\"밀가루\"\n",
    "     self.필수재료=\"이스트\"\n",
    "     self.기존시간=5\n",
    "   \n",
    "   def 빵모양(self):\n",
    "     self.크기가로=20\n",
    "     self.크기세로=5\n",
    "     \n",
    "     "
   ]
  },
  {
   "cell_type": "code",
   "execution_count": 4,
   "metadata": {},
   "outputs": [
    {
     "name": "stdout",
     "output_type": "stream",
     "text": [
      "밀가루\n"
     ]
    }
   ],
   "source": [
    "밤빵 = 빵틀()\n",
    "\n",
    "밤빵.빵반죽()\n",
    "밤빵.빵모양()\n",
    "\n",
    "print(밤빵.기본재료)\n"
   ]
  },
  {
   "cell_type": "code",
   "execution_count": 5,
   "metadata": {},
   "outputs": [],
   "source": [
    "밤빵 = 빵틀()\n",
    "\n",
    "밤빵.추가재료=\"밤\"\n",
    "밤빵.칼로리 = 100\n",
    "\n",
    "버터빵 = 빵틀()\n",
    "버터빵.추가재료=\"버터\"\n",
    "버터빵.칼로리 = 280"
   ]
  },
  {
   "cell_type": "code",
   "execution_count": null,
   "metadata": {},
   "outputs": [],
   "source": []
  }
 ],
 "metadata": {
  "kernelspec": {
   "display_name": "mtedu",
   "language": "python",
   "name": "python3"
  },
  "language_info": {
   "codemirror_mode": {
    "name": "ipython",
    "version": 3
   },
   "file_extension": ".py",
   "mimetype": "text/x-python",
   "name": "python",
   "nbconvert_exporter": "python",
   "pygments_lexer": "ipython3",
   "version": "3.11.7"
  }
 },
 "nbformat": 4,
 "nbformat_minor": 2
}
