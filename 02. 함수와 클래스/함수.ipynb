{
 "cells": [
  {
   "cell_type": "markdown",
   "metadata": {},
   "source": [
    "### 함수\n",
    "- def 라는 명령어 사용\n",
    "- 함수명은 짧은 영문명으로 만듦\n",
    "- 끝에 소괄호 사용 후 매개변수 등을 넣음\n",
    "- 매개변수는 함수를 만들 때 입력받는 변수\n",
    "- 인수는 함수를 호출하여 사용할 때 ( ) 안에 입력하는 값\n",
    "- 함수는 생성후 호출하지 않으면 아무일도 안 일어남"
   ]
  },
  {
   "cell_type": "code",
   "execution_count": 2,
   "metadata": {},
   "outputs": [
    {
     "name": "stdout",
     "output_type": "stream",
     "text": [
      "(1, 2, 3, 4, 5) 15\n"
     ]
    },
    {
     "data": {
      "text/plain": [
       "((1, 2, 3, 4, 5), 15)"
      ]
     },
     "execution_count": 2,
     "metadata": {},
     "output_type": "execute_result"
    }
   ],
   "source": [
    "def userSum(*nums):\n",
    "  tot=0\n",
    "  for num in nums:\n",
    "    tot += num\n",
    "  \n",
    "  print(nums, tot)\n",
    "  \n",
    "  return nums, tot\n",
    "  \n",
    "userSum(1,2,3,4,5)"
   ]
  },
  {
   "cell_type": "code",
   "execution_count": 4,
   "metadata": {},
   "outputs": [
    {
     "name": "stdout",
     "output_type": "stream",
     "text": [
      "30\n",
      "30\n"
     ]
    }
   ],
   "source": [
    "def add(a,b):\n",
    "  return a+b\n",
    "\n",
    "sums = add(10,20)\n",
    "print(sums)\n",
    "\n",
    "sums = (lambda a, b: a+b)(10,20)\n",
    "print(sums)"
   ]
  }
 ],
 "metadata": {
  "kernelspec": {
   "display_name": "mtedu",
   "language": "python",
   "name": "python3"
  },
  "language_info": {
   "codemirror_mode": {
    "name": "ipython",
    "version": 3
   },
   "file_extension": ".py",
   "mimetype": "text/x-python",
   "name": "python",
   "nbconvert_exporter": "python",
   "pygments_lexer": "ipython3",
   "version": "3.11.7"
  }
 },
 "nbformat": 4,
 "nbformat_minor": 2
}
